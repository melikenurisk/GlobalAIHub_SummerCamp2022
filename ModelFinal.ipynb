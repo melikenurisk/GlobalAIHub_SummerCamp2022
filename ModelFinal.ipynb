{
  "nbformat": 4,
  "nbformat_minor": 0,
  "metadata": {
    "colab": {
      "name": "ModelFinal.ipynb",
      "provenance": [],
      "collapsed_sections": [],
      "include_colab_link": true
    },
    "kernelspec": {
      "name": "python3",
      "display_name": "Python 3"
    },
    "language_info": {
      "name": "python"
    },
    "accelerator": "GPU",
    "gpuClass": "standard"
  },
  "cells": [
    {
      "cell_type": "markdown",
      "metadata": {
        "id": "view-in-github",
        "colab_type": "text"
      },
      "source": [
        "<a href=\"https://colab.research.google.com/github/zeynepguney/GlobalAIHub_SummerCamp2022/blob/main/ModelFinal.ipynb\" target=\"_parent\"><img src=\"https://colab.research.google.com/assets/colab-badge.svg\" alt=\"Open In Colab\"/></a>"
      ]
    },
    {
      "cell_type": "code",
      "execution_count": null,
      "metadata": {
        "id": "fIUlxopLvHSo"
      },
      "outputs": [],
      "source": [
        "import pickle"
      ]
    },
    {
      "cell_type": "code",
      "source": [
        "x_train = pickle.load(open(\"/content/drive/MyDrive/pickles/x_train_pickle\",\"rb\"))\n",
        "y_train = pickle.load(open(\"/content/drive/MyDrive/pickles/y_train_pickle\",\"rb\"))\n",
        "\n",
        "x_val = pickle.load(open(\"/content/drive/MyDrive/pickles/x_val_pickle\",\"rb\"))\n",
        "y_val = pickle.load(open(\"/content/drive/MyDrive/pickles/y_val_pickle\",\"rb\"))\n",
        "\n",
        "x_test = pickle.load(open(\"/content/drive/MyDrive/pickles/x_test_pickle\",\"rb\"))\n",
        "y_test = pickle.load(open(\"/content/drive/MyDrive/pickles/y_test_pickle\",\"rb\"))"
      ],
      "metadata": {
        "id": "12gssYiW6KPF"
      },
      "execution_count": null,
      "outputs": []
    },
    {
      "cell_type": "code",
      "source": [
        "import tensorflow as tf"
      ],
      "metadata": {
        "id": "N2xCuaFK-zIC"
      },
      "execution_count": null,
      "outputs": []
    },
    {
      "cell_type": "code",
      "source": [
        "base_model = tf.keras.applications.mobilenet_v2.MobileNetV2(\n",
        "    include_top = False,\n",
        "    weights=\"imagenet\",\n",
        "    input_shape=(128,128,3),\n",
        "    pooling=\"max\"\n",
        ")"
      ],
      "metadata": {
        "colab": {
          "base_uri": "https://localhost:8080/"
        },
        "id": "AGuupHec_Bic",
        "outputId": "e4d8b399-c341-4426-ac6c-fb962ded88cf"
      },
      "execution_count": null,
      "outputs": [
        {
          "output_type": "stream",
          "name": "stdout",
          "text": [
            "Downloading data from https://storage.googleapis.com/tensorflow/keras-applications/mobilenet_v2/mobilenet_v2_weights_tf_dim_ordering_tf_kernels_1.0_128_no_top.h5\n",
            "9412608/9406464 [==============================] - 0s 0us/step\n",
            "9420800/9406464 [==============================] - 0s 0us/step\n"
          ]
        }
      ]
    },
    {
      "cell_type": "code",
      "source": [
        "for layer in base_model.layers:\n",
        "  layer.trainable = False"
      ],
      "metadata": {
        "id": "G0xK16x5AORl"
      },
      "execution_count": null,
      "outputs": []
    },
    {
      "cell_type": "code",
      "source": [
        "x = tf.keras.layers.Flatten()(base_model.output)\n",
        "\n",
        "x = tf.keras.layers.Dense(1024, activation=\"relu\")(x)\n",
        "x = tf.keras.layers.Dropout(0.5)(x)\n",
        "x = tf.keras.layers.Flatten()\n",
        "x = tf.keras.layers.Dense(1024, activation=\"relu\")(x)\n",
        "x = tf.keras.layers.Dropout(0.5)(x)\n",
        "x = tf.keras.layers.Flatten()\n",
        "x = tf.keras.layers.Dense(1024, activation=\"relu\")(x)\n",
        "x = tf.keras.layers.Dropout(0.5)(x)\n",
        "x = tf.keras.layers.Flatten()\n",
        "x = tf.keras.layers.Dense(1024, activation=\"relu\")(x)\n",
        "x = tf.keras.layers.Dropout(0.5)(x)\n",
        "x = tf.keras.layers.Flatten()\n",
        "x = tf.keras.layers.Dense(1024, activation=\"relu\")(x)\n",
        "x = tf.keras.layers.Dropout(0.5)(x)\n",
        "\n",
        "predictions = tf.keras.Dense(1, activation=\"sigmoid\")(x)"
      ],
      "metadata": {
        "id": "yqN8BWWMEnp8"
      },
      "execution_count": null,
      "outputs": []
    },
    {
      "cell_type": "code",
      "source": [
        "number_of_layers=[1,2,3,4,5]\n",
        "\n",
        "for i in number_of_layers:\n",
        "  for _ in range(10):\n",
        "    x = tf.keras.layers.Dense(1024, activation=\"relu\")(x)\n",
        "    x = tf.keras.layers.Dropout(0.5)(x)"
      ],
      "metadata": {
        "id": "HINBTx1ECJbO"
      },
      "execution_count": null,
      "outputs": []
    },
    {
      "cell_type": "code",
      "source": [
        "head_model = tf.keras.Model(inputs=base_model.inputs, outputs=predictions)"
      ],
      "metadata": {
        "id": "QHANdxgwCoWd"
      },
      "execution_count": null,
      "outputs": []
    },
    {
      "cell_type": "code",
      "source": [
        "head_model.compile(\n",
        "    optimizer=\"adam\",\n",
        "    loss=\"binary_crossentropy\",\n",
        "    metrics=[\"accuracy\"],\n",
        ")"
      ],
      "metadata": {
        "id": "j4ClYdUREoIf"
      },
      "execution_count": null,
      "outputs": []
    },
    {
      "cell_type": "code",
      "source": [
        "history_head_model.fit(\n",
        "    x_train,\n",
        "    y_train,\n",
        "    batch_size=128,\n",
        "    epochs=25,\n",
        "    validation_data=(x_val,y_val)\n",
        ")"
      ],
      "metadata": {
        "id": "X1vWtfbSFaz6"
      },
      "execution_count": null,
      "outputs": []
    },
    {
      "cell_type": "code",
      "source": [
        "head_model.metric_names"
      ],
      "metadata": {
        "id": "HoHYX5yYGajI"
      },
      "execution_count": null,
      "outputs": []
    },
    {
      "cell_type": "code",
      "source": [
        "head_model.evaluate(x_test,y_test)"
      ],
      "metadata": {
        "id": "yGb-kRObGDoB"
      },
      "execution_count": null,
      "outputs": []
    },
    {
      "cell_type": "code",
      "source": [
        "import matplotlib.pyplot as plt"
      ],
      "metadata": {
        "id": "SCGznMHqGpGC"
      },
      "execution_count": null,
      "outputs": []
    },
    {
      "cell_type": "code",
      "source": [
        "plt.plot([history.history[\"loss\"],label=\"Train\"])\n",
        "plt.plot([history.history[\"val_loss\"],label=\"Validation\"])\n",
        "\n",
        "plt.xlabel(\"Epochs\")\n",
        "plt.ylabel(\"Loss\")\n",
        "\n",
        "plt.legend()\n",
        "plt.show()"
      ],
      "metadata": {
        "id": "x33npA-yGtKJ"
      },
      "execution_count": null,
      "outputs": []
    },
    {
      "cell_type": "code",
      "source": [
        "plt.plot([history.history[\"accuracy\"],label=\"Train\"])\n",
        "plt.plot([history.history[\"val_accuracy\"],label=\"Validation\"])\n",
        "\n",
        "plt.xlabel(\"Epochs\")\n",
        "plt.ylabel(\"Accuracy\")\n",
        "\n",
        "plt.legend()\n",
        "plt.show()"
      ],
      "metadata": {
        "id": "NadoDLqAHMA2"
      },
      "execution_count": null,
      "outputs": []
    },
    {
      "cell_type": "code",
      "source": [
        "with open(\"model.pickle\",\"wr\") as f:\n",
        "  pickle.dump(head_model, f)"
      ],
      "metadata": {
        "id": "iwku5W-zIOyB"
      },
      "execution_count": null,
      "outputs": []
    },
    {
      "cell_type": "code",
      "source": [
        "head_model.save(\"trained_model\")"
      ],
      "metadata": {
        "id": "cmd72y0iPn2r"
      },
      "execution_count": null,
      "outputs": []
    },
    {
      "cell_type": "code",
      "source": [],
      "metadata": {
        "id": "Yx2UdAhnGZAf"
      },
      "execution_count": null,
      "outputs": []
    }
  ]
}